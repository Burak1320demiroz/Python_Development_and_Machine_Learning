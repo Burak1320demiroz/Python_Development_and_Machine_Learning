{
 "cells": [
  {
   "cell_type": "markdown",
   "metadata": {},
   "source": [
    "### Integer (Tam sayı)"
   ]
  },
  {
   "cell_type": "code",
   "execution_count": 2,
   "metadata": {},
   "outputs": [
    {
     "name": "stdout",
     "output_type": "stream",
     "text": [
      "10 ==>  <class 'int'>\n"
     ]
    }
   ],
   "source": [
    "x = 10\n",
    "print(x, \"==> \", type(x))"
   ]
  },
  {
   "cell_type": "markdown",
   "metadata": {},
   "source": [
    "### Complex (Karmaşık Sayılar)"
   ]
  },
  {
   "cell_type": "code",
   "execution_count": 9,
   "metadata": {},
   "outputs": [
    {
     "name": "stdout",
     "output_type": "stream",
     "text": [
      "(3+4j) ==>  <class 'complex'>\n"
     ]
    }
   ],
   "source": [
    "k = 3 + 4j\n",
    "print(k, \"==> \", type(k))"
   ]
  },
  {
   "cell_type": "markdown",
   "metadata": {},
   "source": [
    "### Float (Ondalıklı sayı)"
   ]
  },
  {
   "cell_type": "code",
   "execution_count": 6,
   "metadata": {},
   "outputs": [
    {
     "name": "stdout",
     "output_type": "stream",
     "text": [
      "3.14 ==>  <class 'float'>\n"
     ]
    }
   ],
   "source": [
    "y = 3.14\n",
    "print(y, \"==> \", type(y))"
   ]
  },
  {
   "cell_type": "markdown",
   "metadata": {},
   "source": [
    "### String (Metin)"
   ]
  },
  {
   "cell_type": "code",
   "execution_count": 11,
   "metadata": {},
   "outputs": [
    {
     "name": "stdout",
     "output_type": "stream",
     "text": [
      "I'm learning Python! ==>  <class 'str'>\n"
     ]
    }
   ],
   "source": [
    "z = \"I'm learning Python!\"\n",
    "print(z, \"==> \", type(z))"
   ]
  },
  {
   "cell_type": "code",
   "execution_count": 18,
   "metadata": {},
   "outputs": [
    {
     "name": "stdout",
     "output_type": "stream",
     "text": [
      "I ==> First Letter\n",
      "! ==> Last Letter\n",
      "I'm \n"
     ]
    }
   ],
   "source": [
    "print(z[0], \"==>\", \"First Letter\") \n",
    "print(z[-1], \"==>\", \"Last Letter\")\n",
    "print(z[:4])  "
   ]
  },
  {
   "cell_type": "code",
   "execution_count": 19,
   "metadata": {},
   "outputs": [
    {
     "name": "stdout",
     "output_type": "stream",
     "text": [
      "I'M LEARNING PYTHON!\n",
      "i'm learning python!\n",
      "I'm learning C++!\n",
      "[\"I'm\", 'learning', 'Python!']\n"
     ]
    }
   ],
   "source": [
    "print(z.upper())  \n",
    "print(z.lower())  \n",
    "print(z.replace(\"Python\", \"C++\")) \n",
    "print(z.split())  "
   ]
  },
  {
   "cell_type": "markdown",
   "metadata": {},
   "source": [
    "### Boolean (Mantıksal değer)"
   ]
  },
  {
   "cell_type": "code",
   "execution_count": 8,
   "metadata": {},
   "outputs": [
    {
     "name": "stdout",
     "output_type": "stream",
     "text": [
      "True ==>  <class 'bool'>\n"
     ]
    }
   ],
   "source": [
    "is_active = True\n",
    "print(is_active, \"==> \", type(is_active))"
   ]
  }
 ],
 "metadata": {
  "kernelspec": {
   "display_name": "Python 3",
   "language": "python",
   "name": "python3"
  },
  "language_info": {
   "codemirror_mode": {
    "name": "ipython",
    "version": 3
   },
   "file_extension": ".py",
   "mimetype": "text/x-python",
   "name": "python",
   "nbconvert_exporter": "python",
   "pygments_lexer": "ipython3",
   "version": "3.10.12"
  }
 },
 "nbformat": 4,
 "nbformat_minor": 2
}
