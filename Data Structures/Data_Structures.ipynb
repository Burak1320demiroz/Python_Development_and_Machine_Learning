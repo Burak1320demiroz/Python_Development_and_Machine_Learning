{
 "cells": [
  {
   "cell_type": "markdown",
   "metadata": {},
   "source": [
    "### List (Liste)\n",
    "- Değiştirilebilir (Mutable)\n",
    "- Sıralıdır (Ordered)\n",
    "- Farklı veri türleri içerebilir (Can contain different types of data)\n",
    "- İç içe listeler (Nested Lists)"
   ]
  },
  {
   "cell_type": "code",
   "execution_count": 3,
   "metadata": {},
   "outputs": [
    {
     "name": "stdout",
     "output_type": "stream",
     "text": [
      "[100, 2, 3, 'Python', True, (2+3j), 2.5, 50]\n"
     ]
    }
   ],
   "source": [
    "list = [1, 2, 3, \"Python\", True, 2 + 3j, 2.5]\n",
    "list[0] = 100 \n",
    "list.append(50)  \n",
    "print(list)  "
   ]
  },
  {
   "cell_type": "markdown",
   "metadata": {},
   "source": [
    "### Tuple (Demet)\n",
    "- Değiştirilemez (Immutable)\n",
    "- Sıralıdır (Ordered)\n",
    "- Farklı veri türleri içerebilir (Can contain different types of data)\n",
    "- Daha hızlıdır (It is faster)"
   ]
  },
  {
   "cell_type": "code",
   "execution_count": null,
   "metadata": {},
   "outputs": [],
   "source": [
    "tuple = [1, 2, 3, \"Python\", True, 2 + 3j, 2.5]\n",
    "# tuple[1] = 30 --> Error! Tuple is not mutable."
   ]
  },
  {
   "cell_type": "code",
   "execution_count": 7,
   "metadata": {},
   "outputs": [
    {
     "name": "stdout",
     "output_type": "stream",
     "text": [
      "<class 'tuple'>\n"
     ]
    }
   ],
   "source": [
    "f_tuple = (5,)\n",
    "print(type(f_tuple))  "
   ]
  },
  {
   "cell_type": "markdown",
   "metadata": {},
   "source": [
    "### Set\n",
    "- Değiştirilebilir (Mutable)\n",
    "- Sırasızdır (Unordered)\n",
    "- Benzersizdir (Unique) --> The same element cannot occur twice (Aynı eleman iki kez bulunamaz.)\n",
    "- Matematiksel küme işlemleri yapılabilir (Mathematical set operations can be performed.)"
   ]
  },
  {
   "cell_type": "code",
   "execution_count": 9,
   "metadata": {},
   "outputs": [
    {
     "name": "stdout",
     "output_type": "stream",
     "text": [
      "{1, 2, 3, 4, 5}\n",
      "{1, 2, 4, 5, 10}\n"
     ]
    }
   ],
   "source": [
    "set = {1, 2, 3, 4, 4, 5}\n",
    "print(set)  \n",
    "set.add(10) \n",
    "set.remove(3) \n",
    "print(set)"
   ]
  },
  {
   "cell_type": "code",
   "execution_count": 10,
   "metadata": {},
   "outputs": [
    {
     "name": "stdout",
     "output_type": "stream",
     "text": [
      "{1, 2, 3, 4, 5, 6}\n",
      "{3, 4}\n",
      "{1, 2}\n"
     ]
    }
   ],
   "source": [
    "A = {1, 2, 3, 4}\n",
    "B = {3, 4, 5, 6}\n",
    "\n",
    "print(A | B) \n",
    "print(A & B)  \n",
    "print(A - B)  "
   ]
  },
  {
   "cell_type": "markdown",
   "metadata": {},
   "source": [
    "### Frozenset (Değiştirilemez Küme)\n",
    "- Değiştirilemez (Immutable)\n",
    "- Sırasızdır (Unordered)\n",
    "- Benzersizdir (Unique) --> The same element cannot occur twice (Aynı eleman iki kez bulunamaz.)\n",
    "- Matematiksel küme işlemleri yapılabilir (Mathematical set operations can be performed.)"
   ]
  },
  {
   "cell_type": "code",
   "execution_count": 11,
   "metadata": {},
   "outputs": [
    {
     "name": "stdout",
     "output_type": "stream",
     "text": [
      "frozenset({1, 2, 3, 4})\n"
     ]
    }
   ],
   "source": [
    "A = frozenset({1, 2, 3, 4})\n",
    "# A.add(5)  Error! Frozen set cannot be changed.\n",
    "print(A)"
   ]
  },
  {
   "cell_type": "markdown",
   "metadata": {},
   "source": [
    "### Dictionary (Sözlük)\n",
    "- Değiştirilebilir (Mutable)\n",
    "- Anahtar (Key) --> Değer (Value)\n",
    "- Sırasızdır (Unordered)\n",
    "- Benzersizdir (Unique) --> The same element cannot occur twice (Aynı eleman iki kez bulunamaz.)\n",
    "- Python 3.7 ve sonrası sıralamayı korur (Python 3.7 and later preserves the order)"
   ]
  },
  {
   "cell_type": "code",
   "execution_count": 13,
   "metadata": {},
   "outputs": [
    {
     "name": "stdout",
     "output_type": "stream",
     "text": [
      "Burak\n",
      "{'name': 'Burak', 'age': 30, 'job': 'data science', 'city': 'Bursa'}\n"
     ]
    }
   ],
   "source": [
    "Dictionary = {\n",
    "    \"name\": \"Burak\",\n",
    "    \"age\": 22,\n",
    "    \"job\": \"data science\"\n",
    "}\n",
    "\n",
    "print(Dictionary[\"name\"]) \n",
    "Dictionary[\"age\"] = 30  \n",
    "Dictionary[\"city\"] = \"Bursa\" \n",
    "print(Dictionary)\n"
   ]
  },
  {
   "cell_type": "markdown",
   "metadata": {},
   "source": [
    "### Range (Aralık)\n",
    "- Bellekte fazla yer kaplamaz, sadece başlangıç ve bitiş değerlerini saklar."
   ]
  },
  {
   "cell_type": "code",
   "execution_count": 14,
   "metadata": {},
   "outputs": [
    {
     "name": "stdout",
     "output_type": "stream",
     "text": [
      "1\n",
      "3\n",
      "5\n",
      "7\n",
      "9\n"
     ]
    }
   ],
   "source": [
    "sayilar = range(1, 10, 2) \n",
    "for sayi in sayilar:\n",
    "    print(sayi)  "
   ]
  },
  {
   "cell_type": "markdown",
   "metadata": {},
   "source": [
    "### Byte\n",
    "- Değiştirilemez (Immutable)\n",
    "- Dosya işlemlerinde ve ağ programlamada kullanılır."
   ]
  },
  {
   "cell_type": "code",
   "execution_count": 16,
   "metadata": {},
   "outputs": [
    {
     "name": "stdout",
     "output_type": "stream",
     "text": [
      "b'ABC'\n",
      "<class 'bytes'>\n"
     ]
    }
   ],
   "source": [
    "byte_veri = bytes([65, 66, 67])\n",
    "print(byte_veri)\n",
    "print(type(byte_veri))  "
   ]
  },
  {
   "cell_type": "markdown",
   "metadata": {},
   "source": [
    "### Bytearray\n",
    "- Değiştirilebilir (Mutable)\n",
    "- Dosya işlemlerinde ve ağ programlamada kullanılır."
   ]
  },
  {
   "cell_type": "code",
   "execution_count": 17,
   "metadata": {},
   "outputs": [
    {
     "name": "stdout",
     "output_type": "stream",
     "text": [
      "bytearray(b'AZC')\n",
      "<class 'bytearray'>\n"
     ]
    }
   ],
   "source": [
    "byte_array = bytearray([65, 66, 67])\n",
    "byte_array[1] = 90  \n",
    "print(byte_array)\n",
    "print(type(byte_array))"
   ]
  }
 ],
 "metadata": {
  "kernelspec": {
   "display_name": "Python 3",
   "language": "python",
   "name": "python3"
  },
  "language_info": {
   "codemirror_mode": {
    "name": "ipython",
    "version": 3
   },
   "file_extension": ".py",
   "mimetype": "text/x-python",
   "name": "python",
   "nbconvert_exporter": "python",
   "pygments_lexer": "ipython3",
   "version": "3.10.12"
  }
 },
 "nbformat": 4,
 "nbformat_minor": 2
}
