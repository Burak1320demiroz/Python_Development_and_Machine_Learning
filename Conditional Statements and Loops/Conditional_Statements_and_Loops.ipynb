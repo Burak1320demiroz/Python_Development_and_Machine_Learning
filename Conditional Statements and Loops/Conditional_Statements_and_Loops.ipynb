{
 "cells": [
  {
   "cell_type": "markdown",
   "metadata": {},
   "source": [
    "### if\n",
    "Checks whether a condition is true. If it is True, the code block is executed. (Bir koşulun doğru olup olmadığını kontrol eder. Eğer doğru (True) ise kod bloğu çalışır)"
   ]
  },
  {
   "cell_type": "code",
   "execution_count": 2,
   "metadata": {},
   "outputs": [
    {
     "name": "stdout",
     "output_type": "stream",
     "text": [
      "number is greater than 5.\n"
     ]
    }
   ],
   "source": [
    "number = 10\n",
    "\n",
    "if number > 5:\n",
    "    print(\"number is greater than 5.\")"
   ]
  },
  {
   "cell_type": "markdown",
   "metadata": {},
   "source": [
    "### if-else\n",
    "Used to run an alternative code if the condition is not met. (Koşul sağlanmazsa alternatif bir kod çalıştırmak için kullanılır.)"
   ]
  },
  {
   "cell_type": "code",
   "execution_count": 3,
   "metadata": {},
   "outputs": [
    {
     "name": "stdout",
     "output_type": "stream",
     "text": [
      "The number is 5 or less.\n"
     ]
    }
   ],
   "source": [
    "number = 3\n",
    "\n",
    "if number > 5:\n",
    "    print(\"number is greater than 5.\")\n",
    "else:\n",
    "    print(\"the number is 5 or less.\")"
   ]
  },
  {
   "cell_type": "markdown",
   "metadata": {},
   "source": [
    "### if-elif-else\n",
    "Elif is used to check multiple conditions. (Birden fazla koşulu kontrol etmek için elif kullanılır.)"
   ]
  },
  {
   "cell_type": "code",
   "execution_count": 5,
   "metadata": {},
   "outputs": [
    {
     "name": "stdout",
     "output_type": "stream",
     "text": [
      "number 5 equals\n"
     ]
    }
   ],
   "source": [
    "number = 5\n",
    "\n",
    "if number > 5:\n",
    "    print(\"number is greater than 5.\")\n",
    "elif number < 5:\n",
    "    print(\"the number is 5 or less.\")\n",
    "else:\n",
    "    print(\"number 5 equals\")"
   ]
  },
  {
   "cell_type": "markdown",
   "metadata": {},
   "source": [
    "### Ternary"
   ]
  },
  {
   "cell_type": "code",
   "execution_count": 8,
   "metadata": {},
   "outputs": [
    {
     "name": "stdout",
     "output_type": "stream",
     "text": [
      "Pozitif\n"
     ]
    }
   ],
   "source": [
    "number = 5\n",
    "x = \"Pozitif\" if number > 0 else \"Negatif\"\n",
    "print(x)"
   ]
  },
  {
   "cell_type": "markdown",
   "metadata": {},
   "source": [
    "### match-case"
   ]
  },
  {
   "cell_type": "code",
   "execution_count": 9,
   "metadata": {},
   "outputs": [
    {
     "name": "stdout",
     "output_type": "stream",
     "text": [
      "FF\n"
     ]
    }
   ],
   "source": [
    "exam = 85\n",
    "\n",
    "match exam:\n",
    "    case 90 | 100:\n",
    "        print(\"AA\")\n",
    "    case 70 | 89:\n",
    "        print(\"BB\")\n",
    "    case 50 | 69:\n",
    "        print(\"CC\")\n",
    "    case _:\n",
    "        print(\"FF\")  "
   ]
  }
 ],
 "metadata": {
  "kernelspec": {
   "display_name": "Python 3",
   "language": "python",
   "name": "python3"
  },
  "language_info": {
   "codemirror_mode": {
    "name": "ipython",
    "version": 3
   },
   "file_extension": ".py",
   "mimetype": "text/x-python",
   "name": "python",
   "nbconvert_exporter": "python",
   "pygments_lexer": "ipython3",
   "version": "3.10.12"
  }
 },
 "nbformat": 4,
 "nbformat_minor": 2
}
